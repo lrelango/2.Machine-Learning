{
 "cells": [
  {
   "cell_type": "code",
   "execution_count": 1,
   "id": "e7715cfc-8b5e-4de9-b8d2-9fd2a5db4798",
   "metadata": {},
   "outputs": [],
   "source": [
    "# Imported pandas library to handle table data\n",
    "import pandas as pd"
   ]
  },
  {
   "cell_type": "code",
   "execution_count": 9,
   "id": "31308f25-d91a-40f2-9b2f-1e66be4f5bab",
   "metadata": {},
   "outputs": [],
   "source": [
    "#create dataset variable by loading all csv file data using pandas\n",
    "dataset=pd.read_csv(\"Salary_Data.csv\")"
   ]
  },
  {
   "cell_type": "code",
   "execution_count": 16,
   "id": "8e0ab2b7-65f3-42b0-ad55-6759f4e40fcb",
   "metadata": {},
   "outputs": [],
   "source": [
    "# creating independent variable by using yearsExperience column in the dataset table\n",
    "independent=dataset[[\"YearsExperience\"]]"
   ]
  },
  {
   "cell_type": "code",
   "execution_count": 12,
   "id": "7dacff25-6268-4495-9579-92384a62fa91",
   "metadata": {},
   "outputs": [],
   "source": [
    "# creating dependent variable by using Salary column in the dataset table\n",
    "dependent=dataset[[\"Salary\"]]"
   ]
  },
  {
   "cell_type": "code",
   "execution_count": 17,
   "id": "b4e0faf0-7212-4d48-8023-869c807c723c",
   "metadata": {},
   "outputs": [],
   "source": [
    "# from sklearn-model_selection, the train_test_split function has been imported\n",
    "from sklearn.model_selection import train_test_split"
   ]
  },
  {
   "cell_type": "code",
   "execution_count": 18,
   "id": "1ca1a251-00a3-4390-b804-65ef4b44d335",
   "metadata": {},
   "outputs": [],
   "source": [
    "# Splitting up of two columns of table data as train and test data\n",
    "x_train,x_test,y_train,y_test=train_test_split(independent, dependent, test_size=0.30, random_state=0)\n"
   ]
  },
  {
   "cell_type": "code",
   "execution_count": 19,
   "id": "ad240a0f-4ff0-4936-b706-345360b85e3d",
   "metadata": {},
   "outputs": [],
   "source": [
    "# importing LinearRegression class from sklearn.linear_model\n",
    "from sklearn.linear_model import LinearRegression"
   ]
  },
  {
   "cell_type": "code",
   "execution_count": 21,
   "id": "7b41f189-1369-4c47-a4c7-df5386a0cf24",
   "metadata": {},
   "outputs": [
    {
     "data": {
      "text/plain": [
       "array([[9360.26128619]])"
      ]
     },
     "execution_count": 21,
     "metadata": {},
     "output_type": "execute_result"
    }
   ],
   "source": [
    "regressor=LinearRegression() # Instantiating the linear regression\n",
    "regressor.fit(x_train, y_train) # Running Linear regression using fit method and passing parameters as x_train & y_train\n",
    "regressor.coef_# printing regressor coef_ class variable for weight or slope"
   ]
  },
  {
   "cell_type": "code",
   "execution_count": 22,
   "id": "30897eae-6298-4422-83db-266f282cad73",
   "metadata": {},
   "outputs": [
    {
     "data": {
      "text/plain": [
       "array([26777.3913412])"
      ]
     },
     "execution_count": 22,
     "metadata": {},
     "output_type": "execute_result"
    }
   ],
   "source": [
    "regressor.intercept_ #printing regressor intercept_ class variable for bias or origin"
   ]
  },
  {
   "cell_type": "code",
   "execution_count": 23,
   "id": "3c2def96-85cc-4609-8293-373da1b70a8b",
   "metadata": {},
   "outputs": [
    {
     "data": {
      "text/plain": [
       "array([[ 40817.78327049],\n",
       "       [123188.08258899],\n",
       "       [ 65154.46261459],\n",
       "       [ 63282.41035735],\n",
       "       [115699.87356004],\n",
       "       [108211.66453108],\n",
       "       [116635.89968866],\n",
       "       [ 64218.43648597],\n",
       "       [ 76386.77615802]])"
      ]
     },
     "execution_count": 23,
     "metadata": {},
     "output_type": "execute_result"
    }
   ],
   "source": [
    "y_pred=regressor.predict(x_test)  # Evaluate the test data to predict y_values\n",
    "y_pred"
   ]
  },
  {
   "cell_type": "code",
   "execution_count": 26,
   "id": "3d70b8c9-2cd8-4958-a72f-6fad1963938d",
   "metadata": {},
   "outputs": [
    {
     "data": {
      "text/plain": [
       "0.9740993407213511"
      ]
     },
     "execution_count": 26,
     "metadata": {},
     "output_type": "execute_result"
    }
   ],
   "source": [
    "from sklearn.metrics import r2_score # importing r2_score method from sklearn.metrics\n",
    "r_score=r2_score(y_test, y_pred) # comparing the y_test and predicted values by passing it to r2_score method\n",
    "r_score # printing evaluation metrics"
   ]
  },
  {
   "cell_type": "code",
   "execution_count": 31,
   "id": "7ab89c48-0f34-4996-b497-94a00c66ea67",
   "metadata": {},
   "outputs": [],
   "source": [
    "import pickle # importing pickle features\n",
    "filename=\"finalized_model_linear.sav\" # creating filename to save the model\n",
    "pickle.dump(regressor,open(filename,'wb')) #The model has been dumped using pickle library"
   ]
  },
  {
   "cell_type": "code",
   "execution_count": 30,
   "id": "f24bbc1e-74d8-4c1a-81ba-cc09536eefa4",
   "metadata": {},
   "outputs": [
    {
     "name": "stderr",
     "output_type": "stream",
     "text": [
      "C:\\Users\\Admin\\anaconda3\\Lib\\site-packages\\sklearn\\base.py:493: UserWarning: X does not have valid feature names, but LinearRegression was fitted with feature names\n",
      "  warnings.warn(\n"
     ]
    },
    {
     "data": {
      "text/plain": [
       "array([[167181.3106341]])"
      ]
     },
     "execution_count": 30,
     "metadata": {},
     "output_type": "execute_result"
    }
   ],
   "source": [
    "loaded_model=pickle.load(open(filename,'rb')) #Reading and loading the model\n",
    "result=loaded_model.predict([[15]]) # Passing the user input to predict using the loaded model\n",
    "result # Printing the output"
   ]
  },
  {
   "cell_type": "code",
   "execution_count": null,
   "id": "9c30ecb1-3676-476e-9803-666e8cc8f889",
   "metadata": {},
   "outputs": [],
   "source": []
  }
 ],
 "metadata": {
  "kernelspec": {
   "display_name": "Python 3 (ipykernel)",
   "language": "python",
   "name": "python3"
  },
  "language_info": {
   "codemirror_mode": {
    "name": "ipython",
    "version": 3
   },
   "file_extension": ".py",
   "mimetype": "text/x-python",
   "name": "python",
   "nbconvert_exporter": "python",
   "pygments_lexer": "ipython3",
   "version": "3.12.7"
  }
 },
 "nbformat": 4,
 "nbformat_minor": 5
}
